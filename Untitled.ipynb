{
 "cells": [
  {
   "cell_type": "code",
   "execution_count": 36,
   "id": "e3369622-3caa-466a-b90b-42c7cd6b9af2",
   "metadata": {},
   "outputs": [
    {
     "name": "stdout",
     "output_type": "stream",
     "text": [
      "Final example\n"
     ]
    }
   ],
   "source": [
    "import os\n",
    "\n",
    "os.chdir('/Users/josuev/Desktop')\n",
    "baconFile = open('bacon.txt', 'r')\n",
    "print(baconFile.read())\n",
    "baconFile.close()"
   ]
  },
  {
   "cell_type": "code",
   "execution_count": 28,
   "id": "188f1706-f18c-4296-875a-386fa660b710",
   "metadata": {},
   "outputs": [],
   "source": [
    "baconFile = open('bacon.txt', 'a')\n",
    "baconFile.write('Bacon is not a vegetable.')\n",
    "baconFile.close()\n"
   ]
  },
  {
   "cell_type": "code",
   "execution_count": 35,
   "id": "60656ffe-db05-48ae-b1df-0c197ad67901",
   "metadata": {},
   "outputs": [
    {
     "name": "stdout",
     "output_type": "stream",
     "text": [
      "Final example\n"
     ]
    }
   ],
   "source": [
    "with open('bacon.txt') as myfile:\n",
    "\t\tfor i in myfile:\n",
    "\t\t\tprint(i)\n"
   ]
  },
  {
   "cell_type": "code",
   "execution_count": 34,
   "id": "a47250ec-8494-4c40-b824-1098b770b5c4",
   "metadata": {},
   "outputs": [],
   "source": [
    "with open('bacon.txt', 'w') as myfile:\n",
    "\t\tmyfile.write('Final example')\n"
   ]
  },
  {
   "cell_type": "code",
   "execution_count": null,
   "id": "d3ac5c95-cf2d-481c-bc3c-3ec8a5a6dfff",
   "metadata": {},
   "outputs": [],
   "source": []
  }
 ],
 "metadata": {
  "kernelspec": {
   "display_name": "Python 3",
   "language": "python",
   "name": "python3"
  },
  "language_info": {
   "codemirror_mode": {
    "name": "ipython",
    "version": 3
   },
   "file_extension": ".py",
   "mimetype": "text/x-python",
   "name": "python",
   "nbconvert_exporter": "python",
   "pygments_lexer": "ipython3",
   "version": "3.8.8"
  }
 },
 "nbformat": 4,
 "nbformat_minor": 5
}
